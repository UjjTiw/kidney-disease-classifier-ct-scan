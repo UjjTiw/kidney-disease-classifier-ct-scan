{
 "cells": [
  {
   "cell_type": "code",
   "execution_count": 76,
   "metadata": {},
   "outputs": [],
   "source": [
    "import os"
   ]
  },
  {
   "cell_type": "code",
   "execution_count": 77,
   "metadata": {},
   "outputs": [
    {
     "data": {
      "text/plain": [
       "'/Users/ujjwaltiwari/Desktop/projects/kidney-disease-classifier-ct-scan'"
      ]
     },
     "execution_count": 77,
     "metadata": {},
     "output_type": "execute_result"
    }
   ],
   "source": [
    "%pwd"
   ]
  },
  {
   "cell_type": "code",
   "execution_count": 3,
   "metadata": {},
   "outputs": [],
   "source": [
    "os.chdir('../')"
   ]
  },
  {
   "cell_type": "code",
   "execution_count": 94,
   "metadata": {},
   "outputs": [],
   "source": [
    "os.environ['MLFLOW_TRACKING_URI'] = 'https://dagshub.com/UjjTiw/kidney-disease-classifier-ct-scan.mlflow'\n",
    "os.environ['MLFLOW_TRACKING_USERNAME'] = 'UjjTiw'\n",
    "os.environ['MLFLOW_TRACKING_PASSWORD'] = 'aed5cdc8e6331b6bacc6a684372ea07f6d913399'"
   ]
  },
  {
   "cell_type": "code",
   "execution_count": 95,
   "metadata": {},
   "outputs": [],
   "source": [
    "import tensorflow as tf"
   ]
  },
  {
   "cell_type": "code",
   "execution_count": null,
   "metadata": {},
   "outputs": [],
   "source": []
  },
  {
   "cell_type": "code",
   "execution_count": 96,
   "metadata": {},
   "outputs": [],
   "source": [
    "from dataclasses import dataclass\n",
    "from pathlib import Path\n",
    "\n",
    "@dataclass(frozen=True)\n",
    "class EvaluationConfig:\n",
    "    path_of_model: Path\n",
    "    training_data: Path\n",
    "    all_params: dict\n",
    "    mlflow_uri: str\n",
    "    params_image_size: list\n",
    "    params_batch_size: int\n"
   ]
  },
  {
   "cell_type": "code",
   "execution_count": 97,
   "metadata": {},
   "outputs": [],
   "source": [
    "from DiseaseClassifier.constants import  *\n",
    "from DiseaseClassifier.utils.common import read_yaml, create_directories, save_json"
   ]
  },
  {
   "cell_type": "code",
   "execution_count": 98,
   "metadata": {},
   "outputs": [],
   "source": [
    "class ConfigurationManager:\n",
    "    def __init__(\n",
    "            self,\n",
    "            config_filepath = CONFIG_FILE_PATH,\n",
    "            params_filepath = PARAMS_FILE_PATH):\n",
    "\n",
    "        self.config = read_yaml(config_filepath)\n",
    "        self.params = read_yaml(params_filepath)\n",
    "\n",
    "        create_directories([self.config.artifacts_root])\n",
    "\n",
    "    \n",
    "    def get_evaluation_config(self) -> EvaluationConfig:\n",
    "        eval_config = EvaluationConfig(\n",
    "            path_of_model= 'artifacts/training/model.h5',\n",
    "            training_data= 'artifacts/data_ingestion/CT-KIDNEY-DATASET-Normal-Cyst-Tumor-Stone/CT-KIDNEY-DATASET-Normal-Cyst-Tumor-Stone',\n",
    "            mlflow_uri= 'https://dagshub.com/UjjTiw/kidney-disease-classifier-ct-scan.mlflow',\n",
    "            all_params= self.params,\n",
    "            params_image_size= self.params.IMAGE_SIZE,\n",
    "            params_batch_size= self.params.BATCH_SIZE\n",
    "        )\n",
    "        return eval_config\n",
    "    "
   ]
  },
  {
   "cell_type": "code",
   "execution_count": 99,
   "metadata": {},
   "outputs": [],
   "source": [
    "import os\n",
    "import urllib.request as request\n",
    "from zipfile import ZipFile\n",
    "import tensorflow as tf\n",
    "from pathlib import Path\n",
    "import mlflow\n",
    "import mlflow.tensorflow\n",
    "from urllib.parse import urlparse"
   ]
  },
  {
   "cell_type": "code",
   "execution_count": 100,
   "metadata": {},
   "outputs": [],
   "source": [
    "class Evaluation:\n",
    "    def __init__(self, config: EvaluationConfig):\n",
    "        self.config = config\n",
    "\n",
    "    \n",
    "    def _valid_generator(self):\n",
    "\n",
    "        datagenerator_kwargs = dict(\n",
    "            rescale = 1./255,\n",
    "            validation_split=0.30\n",
    "        )\n",
    "\n",
    "        dataflow_kwargs = dict(\n",
    "            target_size=self.config.params_image_size[:-1],\n",
    "            batch_size=self.config.params_batch_size,\n",
    "            interpolation=\"bilinear\"\n",
    "        )\n",
    "\n",
    "        valid_datagenerator = tf.keras.preprocessing.image.ImageDataGenerator(\n",
    "            **datagenerator_kwargs\n",
    "        )\n",
    "\n",
    "        self.valid_generator = valid_datagenerator.flow_from_directory(\n",
    "            directory=self.config.training_data,\n",
    "            subset=\"validation\",\n",
    "            shuffle=False,\n",
    "            **dataflow_kwargs\n",
    "        )\n",
    "\n",
    "\n",
    "    @staticmethod\n",
    "    def load_model(path: Path) -> tf.keras.Model:\n",
    "        return tf.keras.models.load_model(path)\n",
    "    \n",
    "\n",
    "    def evaluation(self):\n",
    "        self.model = self.load_model(self.config.path_of_model)\n",
    "        self._valid_generator()\n",
    "        self.score = self.model.evaluate(self.valid_generator)\n",
    "        self.save_score()\n",
    "\n",
    "    def save_score(self):\n",
    "        scores = {\"loss\": self.score[0], \"accuracy\": self.score[1]}\n",
    "        save_json(path=Path(\"scores.json\"), data=scores)\n",
    "\n",
    "    \n",
    "    def log_into_mlflow(self):\n",
    "        mlflow.set_registry_uri(self.config.mlflow_uri)\n",
    "        tracking_url_type_store = urlparse(mlflow.get_tracking_uri()).scheme\n",
    "        \n",
    "        with mlflow.start_run():\n",
    "            mlflow.log_params(self.config.all_params)\n",
    "            mlflow.log_metrics(\n",
    "                {\"loss\": self.score[0], \"accuracy\": self.score[1]}\n",
    "            )\n",
    "            # Model registry does not work with file store\n",
    "            # if tracking_url_type_store != \"file\":\n",
    "\n",
    "            #     # Register the model\n",
    "            #     # There are other ways to use the Model Registry, which depends on the use case,\n",
    "            #     # please refer to the doc for more information:\n",
    "            #     # https://mlflow.org/docs/latest/model-registry.html#api-workflow\n",
    "            #     mlflow.tensorflow.log_model(self.model, \"model\", registered_model_name=\"EfficientNetB7\")\n",
    "            # else:\n",
    "            #     mlflow.tensorflow.log_model(self.model, \"model\")"
   ]
  },
  {
   "cell_type": "code",
   "execution_count": 102,
   "metadata": {},
   "outputs": [
    {
     "name": "stdout",
     "output_type": "stream",
     "text": [
      "[2024-04-16 12:04:58,394: INFO: common: yaml file: config/config.yaml loaded successfully]\n",
      "[2024-04-16 12:04:58,400: INFO: common: yaml file: params.yaml loaded successfully]\n",
      "[2024-04-16 12:04:58,401: INFO: common: Created directory at : artifacts]\n",
      "Found 3732 images belonging to 4 classes.\n",
      "117/117 [==============================] - 358s 3s/step - loss: 118.1015 - accuracy: 0.4767\n",
      "[2024-04-16 12:11:03,172: INFO: common: json files saved at: scores.json]\n",
      "Unexpected exception formatting exception. Falling back to standard exception\n"
     ]
    },
    {
     "name": "stderr",
     "output_type": "stream",
     "text": [
      "Traceback (most recent call last):\n",
      "  File \"/Users/ujjwaltiwari/anaconda3/envs/kidney_project/lib/python3.9/site-packages/IPython/core/interactiveshell.py\", line 3550, in run_code\n",
      "    exec(code_obj, self.user_global_ns, self.user_ns)\n",
      "  File \"/var/folders/x5/z5cwd1cx4wzdf6bwhq_b41x40000gn/T/ipykernel_38984/1316878791.py\", line 9, in <module>\n",
      "    raise e\n",
      "  File \"/var/folders/x5/z5cwd1cx4wzdf6bwhq_b41x40000gn/T/ipykernel_38984/1316878791.py\", line 6, in <module>\n",
      "    evaluation.log_into_mlflow()\n",
      "  File \"/var/folders/x5/z5cwd1cx4wzdf6bwhq_b41x40000gn/T/ipykernel_38984/1741163121.py\", line 51, in log_into_mlflow\n",
      "    with mlflow.start_run():\n",
      "  File \"/Users/ujjwaltiwari/anaconda3/envs/kidney_project/lib/python3.9/site-packages/mlflow/tracking/fluent.py\", line 350, in start_run\n",
      "    error_code=INVALID_PARAMETER_VALUE,\n",
      "  File \"/Users/ujjwaltiwari/anaconda3/envs/kidney_project/lib/python3.9/site-packages/mlflow/tracking/client.py\", line 275, in create_run\n",
      "    --\n",
      "  File \"/Users/ujjwaltiwari/anaconda3/envs/kidney_project/lib/python3.9/site-packages/mlflow/tracking/_tracking_service/client.py\", line 131, in create_run\n",
      "  File \"/Users/ujjwaltiwari/anaconda3/envs/kidney_project/lib/python3.9/site-packages/mlflow/store/tracking/rest_store.py\", line 175, in create_run\n",
      "    \"\"\"\n",
      "  File \"/Users/ujjwaltiwari/anaconda3/envs/kidney_project/lib/python3.9/site-packages/mlflow/store/tracking/rest_store.py\", line 56, in _call_endpoint\n",
      "  File \"/Users/ujjwaltiwari/anaconda3/envs/kidney_project/lib/python3.9/site-packages/mlflow/utils/rest_utils.py\", line 281, in call_endpoint\n",
      "    if not host:\n",
      "  File \"/Users/ujjwaltiwari/anaconda3/envs/kidney_project/lib/python3.9/site-packages/mlflow/utils/rest_utils.py\", line 207, in verify_rest_response\n",
      "    call_kwargs = {\n",
      "mlflow.exceptions.RestException: INVALID_PARAMETER_VALUE: Response: {'error_code': 'INVALID_PARAMETER_VALUE'}\n",
      "\n",
      "During handling of the above exception, another exception occurred:\n",
      "\n",
      "Traceback (most recent call last):\n",
      "  File \"/Users/ujjwaltiwari/anaconda3/envs/kidney_project/lib/python3.9/site-packages/IPython/core/interactiveshell.py\", line 2144, in showtraceback\n",
      "    stb = self.InteractiveTB.structured_traceback(\n",
      "  File \"/Users/ujjwaltiwari/anaconda3/envs/kidney_project/lib/python3.9/site-packages/IPython/core/ultratb.py\", line 1435, in structured_traceback\n",
      "    return FormattedTB.structured_traceback(\n",
      "  File \"/Users/ujjwaltiwari/anaconda3/envs/kidney_project/lib/python3.9/site-packages/IPython/core/ultratb.py\", line 1326, in structured_traceback\n",
      "    return VerboseTB.structured_traceback(\n",
      "  File \"/Users/ujjwaltiwari/anaconda3/envs/kidney_project/lib/python3.9/site-packages/IPython/core/ultratb.py\", line 1173, in structured_traceback\n",
      "    formatted_exception = self.format_exception_as_a_whole(etype, evalue, etb, number_of_lines_of_context,\n",
      "  File \"/Users/ujjwaltiwari/anaconda3/envs/kidney_project/lib/python3.9/site-packages/IPython/core/ultratb.py\", line 1088, in format_exception_as_a_whole\n",
      "    frames.append(self.format_record(record))\n",
      "  File \"/Users/ujjwaltiwari/anaconda3/envs/kidney_project/lib/python3.9/site-packages/IPython/core/ultratb.py\", line 970, in format_record\n",
      "    frame_info.lines, Colors, self.has_colors, lvals\n",
      "  File \"/Users/ujjwaltiwari/anaconda3/envs/kidney_project/lib/python3.9/site-packages/IPython/core/ultratb.py\", line 792, in lines\n",
      "    return self._sd.lines\n",
      "  File \"/Users/ujjwaltiwari/anaconda3/envs/kidney_project/lib/python3.9/site-packages/stack_data/utils.py\", line 145, in cached_property_wrapper\n",
      "    value = obj.__dict__[self.func.__name__] = self.func(obj)\n",
      "  File \"/Users/ujjwaltiwari/anaconda3/envs/kidney_project/lib/python3.9/site-packages/stack_data/core.py\", line 734, in lines\n",
      "    pieces = self.included_pieces\n",
      "  File \"/Users/ujjwaltiwari/anaconda3/envs/kidney_project/lib/python3.9/site-packages/stack_data/utils.py\", line 145, in cached_property_wrapper\n",
      "    value = obj.__dict__[self.func.__name__] = self.func(obj)\n",
      "  File \"/Users/ujjwaltiwari/anaconda3/envs/kidney_project/lib/python3.9/site-packages/stack_data/core.py\", line 681, in included_pieces\n",
      "    pos = scope_pieces.index(self.executing_piece)\n",
      "  File \"/Users/ujjwaltiwari/anaconda3/envs/kidney_project/lib/python3.9/site-packages/stack_data/utils.py\", line 145, in cached_property_wrapper\n",
      "    value = obj.__dict__[self.func.__name__] = self.func(obj)\n",
      "  File \"/Users/ujjwaltiwari/anaconda3/envs/kidney_project/lib/python3.9/site-packages/stack_data/core.py\", line 660, in executing_piece\n",
      "    return only(\n",
      "  File \"/Users/ujjwaltiwari/anaconda3/envs/kidney_project/lib/python3.9/site-packages/executing/executing.py\", line 116, in only\n",
      "    raise NotOneValueFound('Expected one value, found 0')\n",
      "executing.executing.NotOneValueFound: Expected one value, found 0\n"
     ]
    }
   ],
   "source": [
    "try:\n",
    "    config = ConfigurationManager()\n",
    "    eval_config = config.get_evaluation_config()\n",
    "    evaluation  = Evaluation(eval_config)\n",
    "    evaluation.evaluation()\n",
    "    evaluation.log_into_mlflow()\n",
    "\n",
    "except Exception as e:\n",
    "    raise e"
   ]
  },
  {
   "cell_type": "code",
   "execution_count": null,
   "metadata": {},
   "outputs": [
    {
     "data": {
      "text/plain": [
       "keras.src.engine.functional.Functional"
      ]
     },
     "execution_count": 14,
     "metadata": {},
     "output_type": "execute_result"
    }
   ],
   "source": [
    "hmm = tf.keras.models.load_model('artifacts/training/model.h5')\n",
    "type(hmm)"
   ]
  },
  {
   "cell_type": "code",
   "execution_count": null,
   "metadata": {},
   "outputs": [],
   "source": []
  }
 ],
 "metadata": {
  "kernelspec": {
   "display_name": "kidney_project",
   "language": "python",
   "name": "python3"
  },
  "language_info": {
   "codemirror_mode": {
    "name": "ipython",
    "version": 3
   },
   "file_extension": ".py",
   "mimetype": "text/x-python",
   "name": "python",
   "nbconvert_exporter": "python",
   "pygments_lexer": "ipython3",
   "version": "3.9.19"
  },
  "orig_nbformat": 4
 },
 "nbformat": 4,
 "nbformat_minor": 2
}
